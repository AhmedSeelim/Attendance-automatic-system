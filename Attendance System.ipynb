{
 "cells": [
  {
   "cell_type": "markdown",
   "metadata": {},
   "source": [
    "# Attendance System By Face Recognition"
   ]
  },
  {
   "cell_type": "markdown",
   "metadata": {},
   "source": [
    "# Face Recognition\n",
    "Early face recognition methods relied on feature extraction algorithms like SIFT, computing distances between features to identify faces.\n",
    "\n",
    "Later, CNNs emerged, trained on datasets to learn features directly from pixel values, offering higher accuracy and robustness.\n",
    "\n",
    "Recently, we rely on face recognition library algorithms that have shown significantly better results than the previous methods by leveraging CNNs. These libraries offer pre-trained models that excel in identifying faces accurately and efficiently, making them a preferred choice for various face recognition applications"
   ]
  },
  {
   "cell_type": "markdown",
   "metadata": {},
   "source": [
    "# Face Recognition Algorithm\n"
   ]
  },
  {
   "cell_type": "markdown",
   "metadata": {},
   "source": [
    "(CNNs) play a crucial role in extracting facial features and recognizing faces .\n",
    "These networks are trained on a large dataset of images containing human faces, where they learn the unique features and important characteristics of faces in these images.                                      \n",
    "When a new face is presented to the face_recognition library for recognition, CNNs are utilized to extract the digital encoding of this face.                 \n",
    "Each dimension in this 128-dimensional space corresponds to a specific facial feature.\n",
    "These features might include aspects such as the distance between the eyes, the shape of the nose.\n",
    "Then using this distance, we can compare face encodings and determine how similar they are.\n",
    "## Features :\n",
    "1-Needs one image for each person in the dataset. \n",
    "\n",
    "2- Find all Faces in image.\n",
    "\n",
    "3- The model has an accuracy of 99.38% on the Labeled Faces in the Wild benchmark whose contains more than 13,000 images of faces collected from the web."
   ]
  },
  {
   "cell_type": "markdown",
   "metadata": {},
   "source": [
    "<div align=\"center\" style=\" font-size: 80%; text-align: center; margin: 0 auto\">\n",
    "<img src=\"0_EgdNNAwqWX4ZbqVf.png\"  style=\"display: block; margin-left: auto; margin-right: auto;\";/>\n",
    "</div>"
   ]
  },
  {
   "cell_type": "markdown",
   "metadata": {},
   "source": [
    "#  Steps"
   ]
  },
  {
   "cell_type": "markdown",
   "metadata": {},
   "source": [
    "### 1-Extract images and their Classes\n",
    "\n",
    "### 2-Face encoding using CNN\n",
    "\n",
    "### 3-compare face encodings and determine how similar they are.\n",
    "\n",
    "### 4- Marking Attendance"
   ]
  },
  {
   "cell_type": "markdown",
   "metadata": {},
   "source": [
    "# Libraries"
   ]
  },
  {
   "cell_type": "code",
   "execution_count": 1,
   "metadata": {},
   "outputs": [],
   "source": [
    "#!pip install cmake dlib face_recognition numpy"
   ]
  },
  {
   "cell_type": "code",
   "execution_count": 2,
   "metadata": {},
   "outputs": [],
   "source": [
    "import cv2\n",
    "import numpy as np\n",
    "import face_recognition\n",
    "import os\n",
    "from datetime import datetime"
   ]
  },
  {
   "cell_type": "markdown",
   "metadata": {},
   "source": [
    "## Extract student photos from dataset directory."
   ]
  },
  {
   "cell_type": "code",
   "execution_count": 3,
   "metadata": {},
   "outputs": [
    {
     "name": "stdout",
     "output_type": "stream",
     "text": [
      "dataset: ['062300146.png', '2023040212.png', '2023040284.png', '412200326.png', '412300001.png', '412300004.png', '412300005.png', '412300006.png', '412300007.png', '412300008.png', '412300009.png', '412300010.png', '412300011.png', '412300012.png', '412300013.png', '412300016.png', '412300019.png', '412300020.png', '412300021.png', '412300022.png', '412300024.png', '412300025.png', '412300026.png', '412300027.png', '412300028.png', '412300030.png', '412300032.png', '412300033.png', '412300034.png', '412300036.png', '412300038.png', '412300039.png', '412300040.png', '412300041.png', '412300042.png', '412300044.png', '412300047.png', '412300048.png', '412300049.png', '412300050.png', '412300051.png', '412300052.png', '412300053.png', '412300054.png', '412300055.png', '412300056.png', '412300059.png', '412300061.png', '412300064.png', '412300066.png', '412300067.png', '412300068.png', '412300069.png', '412300070.png', '412300071.png', '412300072.png', '412300073.png', '412300075.png', '412300077.png', '412300079.png', '412300080.png', '412300082.png', '412300085.png', '412300087.png', '412300088.png', '412300089.png', '412300090.png', '412300091.png', '412300092.png', '412300093.png', '412300094.png', '412300096.png', '412300098.png', '412300099.png', '412300100.png', '412300101.png', '412300102.png', '412300103.png', '412300105.png', '412300106.png', '412300109.png', '412300110.png', '412300111.png', '412300113.png', '412300115.png', '412300116.png', '412300117.png', '412300118.png', '412300119.png', '412300120.png', '412300121.png', '412300122.png', '412300123.png', '412300124.png', '412300125.png', '412300126.png', '412300128.png', '412300129.png', '412300130.png', '412300131.png', '412300132.png', '412300133.png', '412300134.png', '412300135.png', '412300137.png', '412300138.png', '412300140.png', '412300141.png', '412300142.png', '412300143.png', '412300144.png', '412300145.png', '412300147.png', '412300148.png', '412300149.png', '412300150.png', '412300152.png', '412300153.png', '412300154.png', '412300156.png', '412300157.png', '412300158.png', '412300159.png', '412300160.png', '412300161.png', '412300162.png', '412300163.png', '412300164.png', '412300165.png', '412300166.png', '412300168.png', '412300169.png', '412300170.png', '412300171.png', '412300172.png', '412300173.png', '412300175.png', '412300176.png', '412300177.png', '412300178.png', '412300179.png', '412300180.png', '412300181.png', '412300183.png', '412300185.png', '412300186.png', '412300187.png', '412300188.png', '412300190.png', '412300191.png', '412300192.png', '412300193.png', '412300194.png', '412300197.png', '412300198.png', '412300199.png', '412300201.png', '412300202.png', '412300204.png', '412300205.png', '412300206.png', '412300207.png', '412300208.png', '412300209.png', '412300210.png', '412300211.png', '412300216.png', '412300217.png', '412300218.png', '412300219.png', '412300220.png', '412300221.png', '412300224.png', '412300227.png', '412300229.png', '412300230.png', '412300231.png', '412300232.png', '412300233.png', '412300235.png', '412300236.png', '412300237.png', '412300238.png', '412300239.png', '412300240.png', '412300241.png', '412300242.png', '412300245.png', '412300248.png', '412300249.png', '412300250.png', '412300252.png', '412300253.png', '412300259.png', '412300260.png', '412300261.png', '412300262.png', '412300263.png', '412300264.png', '412300265.png', '412300266.png', '412300267.png', '412300268.png', '412300269.png', '412300270.png', '412300272.png', '412300273.png', '412300274.png', '412300275.png', '412300276.png', '412300277.png', '412300278.png', '412300279.png', '412300280.png', '412300281.png', '412300282.png', '412300283.png', '412300285.png', '412300286.png', '412300287.png', '412300288.png', '412300289.png', '412300290.png', '412300291.png', '412300292.png', '412300293.png', '412300294.png', '412300295.png', '412300296.png', '412300297.png', '412300299.png', '412300300.png', '412300303.png', '412300304.png', '412300306.png', '412300307.png', '412300308.png', '412300310.png', '412300311.png', '412300313.png', '412300314.png', '412300316.png', '412300317.png', '412300318.png', '412300319.png', '412300320.png', '412300321.png', '412300322.png', '412300324.png', '412300325.png', '412300326.png', '412300329.png', '412300330.png', '412300331.png', '412300332.png', '412300333.png', '412300334.png', '412300335.png', '412300337.png', '412300340.png', '412300341.png', '412300342.png', '412300344.png', '412300345.png', '412300346.png', '412300347.png', '412300348.png', '412300349.png', '412300350.png', '412300351.png', '412300353.png', '412300354.png', '412300355.png', '412300356.png', '412300357.png', '412300358.png', '412300359.png', '412300360.png', '412300361.png', '412300362.png', '412300363.png', '412300364.png', '412300365.png', '412300366.png', '412300367.png', '412300368.png', '412300369.png', '412300371.png', '412300372.png', '412300374.png', '412300376.png', '412300377.png', '412300378.png', '412300379.png', '412300380.png', '412300381.png', '412300382.png', '412300383.png', '412300385.png', '412300386.png', '412300387.png', '412300389.png', '412300390.png', '412300391.png', '412300392.png', '412300393.png', '412300394.png', '412300395.png', '412300396.png', '412300398.png', '412300399.png', '412300400.png', '412300401.png', '412300402.png', '412300403.png', '412300405.png', '412300406.png', '412300409.png', '412300410.png', '412300411.png', '412300412.png', '412300413.png', '412300414.png', '412300415.png', '412300416.png', '412300417.png', '412300418.png', '412300419.png', '412300420.png', '412300421.png', '412300422.png', '412300425.png', '412300427.png', '412300428.png', '412300429.png', '412300430.png', '412300431.png', '412300433.png', '412300434.png', '412300435.png', '412300436.png', '412300437.png', '412300438.png', '412300440.png', '412300441.png', '412300442.png', '412300443.png', '412300444.png', '412300445.png', '412300446.png', '412300447.png', '412300449.png', '412300450.png', '412300451.png', '412300452.png', '412300454.png', '412300455.png', '412300456.png', '412300457.png', '412300458.png', '412300460.png', '412300461.png', '412300462.png', '412300463.png', '412300464.png', '412300466.png', '412300467.png', '412300470.png', '412300471.png', '412300472.png', '412300473.png', '412300475.png', '412300476.png', '412300477.png', '412300478.png', '412300487.png', '412300501.png', '412300504.png', '412300508.png', '412300511.png', '412300519.png', '412300523.png', '412300527.png', '412300531.png', '412300533.png', '412300535.png', 'Ahmed selim.jpg', 'Elshnaway.jpg', 'Hany.jpg', 'hendy.jpg', 'karimooz.jpg', 'koler.jpg', 'Malol.jpg', 'Modest.jpg']\n"
     ]
    }
   ],
   "source": [
    "path = 'Version-1'\n",
    "images = []\n",
    "classNames = []\n",
    "myList = os.listdir(path)\n",
    "print(\"dataset:\",myList)"
   ]
  },
  {
   "cell_type": "markdown",
   "metadata": {},
   "source": [
    "## Extracting names from the List"
   ]
  },
  {
   "cell_type": "code",
   "execution_count": 4,
   "metadata": {},
   "outputs": [
    {
     "name": "stdout",
     "output_type": "stream",
     "text": [
      "names of students:  ['062300146', '2023040212', '2023040284', '412200326', '412300001', '412300004', '412300005', '412300006', '412300007', '412300008', '412300009', '412300010', '412300011', '412300012', '412300013', '412300016', '412300019', '412300020', '412300021', '412300022', '412300024', '412300025', '412300026', '412300027', '412300028', '412300030', '412300032', '412300033', '412300034', '412300036', '412300038', '412300039', '412300040', '412300041', '412300042', '412300044', '412300047', '412300048', '412300049', '412300050', '412300051', '412300052', '412300053', '412300054', '412300055', '412300056', '412300059', '412300061', '412300064', '412300066', '412300067', '412300068', '412300069', '412300070', '412300071', '412300072', '412300073', '412300075', '412300077', '412300079', '412300080', '412300082', '412300085', '412300087', '412300088', '412300089', '412300090', '412300091', '412300092', '412300093', '412300094', '412300096', '412300098', '412300099', '412300100', '412300101', '412300102', '412300103', '412300105', '412300106', '412300109', '412300110', '412300111', '412300113', '412300115', '412300116', '412300117', '412300118', '412300119', '412300120', '412300121', '412300122', '412300123', '412300124', '412300125', '412300126', '412300128', '412300129', '412300130', '412300131', '412300132', '412300133', '412300134', '412300135', '412300137', '412300138', '412300140', '412300141', '412300142', '412300143', '412300144', '412300145', '412300147', '412300148', '412300149', '412300150', '412300152', '412300153', '412300154', '412300156', '412300157', '412300158', '412300159', '412300160', '412300161', '412300162', '412300163', '412300164', '412300165', '412300166', '412300168', '412300169', '412300170', '412300171', '412300172', '412300173', '412300175', '412300176', '412300177', '412300178', '412300179', '412300180', '412300181', '412300183', '412300185', '412300186', '412300187', '412300188', '412300190', '412300191', '412300192', '412300193', '412300194', '412300197', '412300198', '412300199', '412300201', '412300202', '412300204', '412300205', '412300206', '412300207', '412300208', '412300209', '412300210', '412300211', '412300216', '412300217', '412300218', '412300219', '412300220', '412300221', '412300224', '412300227', '412300229', '412300230', '412300231', '412300232', '412300233', '412300235', '412300236', '412300237', '412300238', '412300239', '412300240', '412300241', '412300242', '412300245', '412300248', '412300249', '412300250', '412300252', '412300253', '412300259', '412300260', '412300261', '412300262', '412300263', '412300264', '412300265', '412300266', '412300267', '412300268', '412300269', '412300270', '412300272', '412300273', '412300274', '412300275', '412300276', '412300277', '412300278', '412300279', '412300280', '412300281', '412300282', '412300283', '412300285', '412300286', '412300287', '412300288', '412300289', '412300290', '412300291', '412300292', '412300293', '412300294', '412300295', '412300296', '412300297', '412300299', '412300300', '412300303', '412300304', '412300306', '412300307', '412300308', '412300310', '412300311', '412300313', '412300314', '412300316', '412300317', '412300318', '412300319', '412300320', '412300321', '412300322', '412300324', '412300325', '412300326', '412300329', '412300330', '412300331', '412300332', '412300333', '412300334', '412300335', '412300337', '412300340', '412300341', '412300342', '412300344', '412300345', '412300346', '412300347', '412300348', '412300349', '412300350', '412300351', '412300353', '412300354', '412300355', '412300356', '412300357', '412300358', '412300359', '412300360', '412300361', '412300362', '412300363', '412300364', '412300365', '412300366', '412300367', '412300368', '412300369', '412300371', '412300372', '412300374', '412300376', '412300377', '412300378', '412300379', '412300380', '412300381', '412300382', '412300383', '412300385', '412300386', '412300387', '412300389', '412300390', '412300391', '412300392', '412300393', '412300394', '412300395', '412300396', '412300398', '412300399', '412300400', '412300401', '412300402', '412300403', '412300405', '412300406', '412300409', '412300410', '412300411', '412300412', '412300413', '412300414', '412300415', '412300416', '412300417', '412300418', '412300419', '412300420', '412300421', '412300422', '412300425', '412300427', '412300428', '412300429', '412300430', '412300431', '412300433', '412300434', '412300435', '412300436', '412300437', '412300438', '412300440', '412300441', '412300442', '412300443', '412300444', '412300445', '412300446', '412300447', '412300449', '412300450', '412300451', '412300452', '412300454', '412300455', '412300456', '412300457', '412300458', '412300460', '412300461', '412300462', '412300463', '412300464', '412300466', '412300467', '412300470', '412300471', '412300472', '412300473', '412300475', '412300476', '412300477', '412300478', '412300487', '412300501', '412300504', '412300508', '412300511', '412300519', '412300523', '412300527', '412300531', '412300533', '412300535', 'Ahmed selim', 'Elshnaway', 'Hany', 'hendy', 'karimooz', 'koler', 'Malol', 'Modest']\n"
     ]
    }
   ],
   "source": [
    "for image in myList:\n",
    "    curimg = cv2.imread(f'{path}/{image}')\n",
    "    images.append(curimg)\n",
    "    classNames.append(os.path.splitext(image)[0])\n",
    "print(\"names of students: \",classNames)"
   ]
  },
  {
   "cell_type": "markdown",
   "metadata": {},
   "source": [
    "# Face Encodings Extraction from Images"
   ]
  },
  {
   "cell_type": "code",
   "execution_count": null,
   "metadata": {
    "scrolled": true
   },
   "outputs": [],
   "source": [
    "def findEncodings(images):\n",
    "    \"\"\"This function converts a list of images to RGB format,\n",
    "    computes face encodings for each image, and returns a list of these encodings.\"\"\"\n",
    "    encodeList = []\n",
    "    i=0\n",
    "    for img in images:\n",
    "        img = cv2.cvtColor(img, cv2.COLOR_BGR2RGB) \n",
    "        i=i+1\n",
    "        print(i)\n",
    "        encode = face_recognition.face_encodings(img)[0] # [0] refere to frist face in image \n",
    "        encodeList.append(encode)\n",
    "    return encodeList\n",
    "encodeListKnown = findEncodings(images)\n",
    "print('Encoding Complete')\n",
    "print (len(encodeListKnown),\"faces were coded\")"
   ]
  },
  {
   "cell_type": "code",
   "execution_count": 6,
   "metadata": {},
   "outputs": [
    {
     "data": {
      "text/plain": [
       "array([-0.19614948, -0.00344185, -0.04342727, -0.057552  , -0.04267423,\n",
       "       -0.06906672, -0.04929157, -0.06209591,  0.1125345 , -0.06723642,\n",
       "        0.24137154, -0.04849206, -0.23516372, -0.0803804 , -0.03905957,\n",
       "        0.08731264, -0.14747939, -0.06067923, -0.07857151, -0.11671763,\n",
       "        0.07043067, -0.06017923, -0.01845611,  0.11739474, -0.19479457,\n",
       "       -0.30678517, -0.01600838, -0.12638827, -0.04650463, -0.10871629,\n",
       "        0.02857338,  0.15730318, -0.17267694, -0.0327608 ,  0.01560867,\n",
       "        0.15974976,  0.03823353,  0.05626436,  0.15956751,  0.01676696,\n",
       "       -0.14411542,  0.06382285,  0.02101143,  0.27081633,  0.17023711,\n",
       "        0.06972756, -0.02887708, -0.02887212,  0.14599332, -0.23403043,\n",
       "        0.01867824,  0.14309613,  0.1561424 , -0.00975783,  0.08708467,\n",
       "       -0.1600966 ,  0.01045934,  0.09289205, -0.20140345, -0.00393235,\n",
       "       -0.0520998 , -0.05025487, -0.05528202, -0.06334499,  0.1758264 ,\n",
       "        0.11927337, -0.12981471, -0.06238008,  0.21839131, -0.0958333 ,\n",
       "       -0.02518034,  0.09066198, -0.12184737, -0.23064867, -0.22000913,\n",
       "        0.10196361,  0.33186689,  0.13906375, -0.19283517,  0.06211228,\n",
       "       -0.07993022, -0.04291506,  0.03443076, -0.00071957, -0.05706229,\n",
       "       -0.04664006, -0.02962351,  0.02033074,  0.14132321,  0.03395568,\n",
       "       -0.03221427,  0.18828972,  0.01457199,  0.02615358,  0.02763287,\n",
       "       -0.03204091, -0.11411376,  0.00798276, -0.15451379, -0.04560982,\n",
       "        0.03972346, -0.07291216,  0.00531826,  0.04393159, -0.2099067 ,\n",
       "        0.10637569,  0.01459109, -0.04222713, -0.01771512,  0.08991343,\n",
       "       -0.11688545, -0.00634306,  0.1081673 , -0.32407603,  0.24154906,\n",
       "        0.19874936,  0.09338802,  0.14213885,  0.090535  , -0.03898789,\n",
       "        0.07163326,  0.00504491, -0.14944048, -0.09666028,  0.10898769,\n",
       "       -0.05343343,  0.00477108, -0.01063017])"
      ]
     },
     "execution_count": 6,
     "metadata": {},
     "output_type": "execute_result"
    }
   ],
   "source": [
    "((encodeListKnown[0]))"
   ]
  },
  {
   "cell_type": "markdown",
   "metadata": {},
   "source": [
    "# Marking Attendance"
   ]
  },
  {
   "cell_type": "code",
   "execution_count": 7,
   "metadata": {},
   "outputs": [],
   "source": [
    "def markAttendance(name,sec_name):\n",
    "    filename = sec_name+' Attendance.csv'\n",
    "    # Check if the file exists\n",
    "    file_exists = os.path.isfile(filename)\n",
    "    \n",
    "    # Open the file in append mode if it exists, otherwise create a new file\n",
    "    with open(filename, 'a+') as f:\n",
    "        if not file_exists:\n",
    "            f.write('Name,Time\\n')  # Write header if the file is newly created\n",
    "        \n",
    "        f.seek(0)  # Move the cursor to the beginning of the file\n",
    "        myDataList = f.readlines()\n",
    "        nameList = [line.split(',')[0] for line in myDataList]\n",
    "        \n",
    "        # Check if the name already exists\n",
    "        if name not in nameList:\n",
    "            now = datetime.now()\n",
    "            dtString = now.strftime('%H:%M:%S')\n",
    "            f.write(f'{name},{dtString}\\n')\n"
   ]
  },
  {
   "cell_type": "markdown",
   "metadata": {},
   "source": [
    "# compare face encodings and determine how similar they are."
   ]
  },
  {
   "cell_type": "code",
   "execution_count": 15,
   "metadata": {},
   "outputs": [],
   "source": [
    "def capture_faces_and_recognize(cap,encodeListKnown, classNames,sec_name):\n",
    "\n",
    "    \"\"\"The function processes video frames, detecting and encoding faces, comparing them with known faces,\n",
    "    and filtering based on a distance threshold to identify matches, treating single-frame appearances as noise.\"\"\"\n",
    "\n",
    "    # to save video and create VideoWriter object\n",
    "    playback_speed=30      #30 frames per second.\n",
    "    frame_width = int(cap.get(cv2.CAP_PROP_FRAME_WIDTH))\n",
    "    frame_height = int(cap.get(cv2.CAP_PROP_FRAME_HEIGHT))\n",
    "    fourcc = cv2.VideoWriter_fourcc(*'XVID') # use with avi\n",
    "    out = cv2.VideoWriter(sec_name + \".avi\", fourcc, playback_speed, (frame_width, frame_height))\n",
    "\n",
    "\n",
    "    # to remove noise faces Which appears in only one frame\n",
    "    history=[] \n",
    "\n",
    "    while True:\n",
    "        success, img = cap.read()\n",
    "        if not success:\n",
    "            break\n",
    "            \n",
    "        imgS = cv2.cvtColor(img, cv2.COLOR_BGR2RGB)\n",
    "\n",
    "         \n",
    "\n",
    "        # ( face_locations listing the co-ordinates of each face , face_encodings ) in each frame \n",
    "        facesCurFrame = face_recognition.face_locations(imgS)\n",
    "        encodesCurFrame = face_recognition.face_encodings(imgS, facesCurFrame)\n",
    "\n",
    "\n",
    "        # Compare and determine the distance between each face in the frame and previously known faces\n",
    "        for encodeFace, faceLoc in zip(encodesCurFrame, facesCurFrame):\n",
    "            matches = face_recognition.compare_faces(encodeListKnown, encodeFace)\n",
    "            print('matches :', matches)\n",
    "            faceDis = face_recognition.face_distance(encodeListKnown, encodeFace)\n",
    "            matchIndex = np.argmin(faceDis)  # index of Less Distance\n",
    "\n",
    "            # filer faces\n",
    "            if faceDis[matchIndex] < 0.45:\n",
    "                name = classNames[matchIndex].upper()\n",
    "                print(\"name is\",name)\n",
    "                print(\"distance : \",faceDis[matchIndex])\n",
    "                accuracy=\"accuracy: \"+str(round(((1-faceDis[matchIndex])/0.7)*100))+\"%\"\n",
    "                print (accuracy)\n",
    "            elif sum(matches)>0 :\n",
    "                #print(matches)\n",
    "                name = \"\"\n",
    "                accuracy=\"\"\n",
    "                Possible_name = classNames[matchIndex].upper()\n",
    "                print(\"Possible name is\",Possible_name)\n",
    "                print(\"distance\",faceDis[matchIndex])\n",
    "            else :\n",
    "                name = \"unknown\"\n",
    "                accuracy=\"\"\n",
    "                print(\"unknown\")\n",
    "\n",
    "\n",
    "\n",
    "            #draw rectangle around face\n",
    "            faceLoc = np.array(faceLoc)\n",
    "            faceLoc = faceLoc.astype(int)\n",
    "            y1, x2, y2, x1 = faceLoc[0], faceLoc[1], faceLoc[2], faceLoc[3]\n",
    "\n",
    "            cv2.rectangle(img, (x1, y1), (x2, y2), (0, 255, 0), 2)\n",
    "            cv2.rectangle(img, (x1, y2 ), (x2, y2), (0, 255, 0), cv2.FILLED)\n",
    "            cv2.putText(img, name, (x1 + 6, y2 - 6), cv2.FONT_HERSHEY_COMPLEX, 0.6, (255, 255, 255), 2)\n",
    "            cv2.putText(img, accuracy, (x1 + 10, y2 +20), cv2.FONT_HERSHEY_COMPLEX, 0.5, (255, 255, 255), 2)\n",
    "            if (name != \"\") and (name != \"unknown\") and (name in history)  :\n",
    "                markAttendance(name,sec_name)\n",
    "            history.append(name)\n",
    "        print(\"-------------------------------------------------------------------------------------\")\n",
    "        cv2.imshow('Video', img)\n",
    "        key = cv2.waitKey(1)\n",
    "        out.write(img)\n",
    "        if key == 27:\n",
    "            break\n",
    "        \n"
   ]
  },
  {
   "cell_type": "markdown",
   "metadata": {},
   "source": [
    "# video streaming"
   ]
  },
  {
   "cell_type": "code",
   "execution_count": 18,
   "metadata": {},
   "outputs": [
    {
     "name": "stdout",
     "output_type": "stream",
     "text": [
      "matches : [False, True, False, False, False, False, False, False]\n",
      "Possible name is AHMED OSAMA\n",
      "distance 0.5432267760439838\n",
      "-------------------------------------------------------------------------------------\n",
      "matches : [False, True, False, False, False, False, False, False]\n",
      "Possible name is AHMED OSAMA\n",
      "distance 0.5612602030623423\n",
      "matches : [False, False, False, False, False, False, False, False]\n",
      "unknown\n",
      "-------------------------------------------------------------------------------------\n",
      "matches : [False, True, False, False, False, False, False, False]\n",
      "Possible name is AHMED OSAMA\n",
      "distance 0.5441554027304184\n",
      "matches : [False, False, False, False, False, False, False, False]\n",
      "unknown\n",
      "-------------------------------------------------------------------------------------\n",
      "matches : [False, True, False, False, False, False, False, False]\n",
      "Possible name is AHMED OSAMA\n",
      "distance 0.5723768576806961\n",
      "matches : [False, True, False, False, False, False, False, False]\n",
      "Possible name is AHMED OSAMA\n",
      "distance 0.5811033829326568\n",
      "-------------------------------------------------------------------------------------\n",
      "matches : [False, True, False, False, False, False, False, False]\n",
      "Possible name is AHMED OSAMA\n",
      "distance 0.5664502379053148\n",
      "matches : [False, True, False, False, False, False, False, False]\n",
      "Possible name is AHMED OSAMA\n",
      "distance 0.5908957138591435\n",
      "-------------------------------------------------------------------------------------\n",
      "matches : [False, True, False, False, True, False, True, False]\n",
      "Possible name is AHMED OSAMA\n",
      "distance 0.5357977998148448\n",
      "-------------------------------------------------------------------------------------\n",
      "matches : [False, True, False, False, False, False, False, False]\n",
      "Possible name is AHMED OSAMA\n",
      "distance 0.5858882446501065\n",
      "matches : [False, False, False, False, False, False, False, False]\n",
      "unknown\n",
      "-------------------------------------------------------------------------------------\n",
      "matches : [False, True, False, False, False, False, False, False]\n",
      "Possible name is AHMED OSAMA\n",
      "distance 0.590308259466265\n",
      "matches : [False, False, False, False, False, False, False, False]\n",
      "unknown\n",
      "-------------------------------------------------------------------------------------\n",
      "matches : [False, True, False, False, False, False, False, False]\n",
      "Possible name is AHMED OSAMA\n",
      "distance 0.5765460009336784\n",
      "matches : [False, False, False, False, False, False, False, False]\n",
      "unknown\n",
      "-------------------------------------------------------------------------------------\n",
      "matches : [False, True, False, False, False, False, False, False]\n",
      "Possible name is AHMED OSAMA\n",
      "distance 0.5317797277497718\n",
      "-------------------------------------------------------------------------------------\n",
      "matches : [False, True, False, False, True, False, False, False]\n",
      "Possible name is AHMED OSAMA\n",
      "distance 0.5197728423728839\n",
      "matches : [False, False, False, False, False, False, False, False]\n",
      "unknown\n",
      "-------------------------------------------------------------------------------------\n",
      "matches : [False, True, False, False, False, False, False, False]\n",
      "Possible name is AHMED OSAMA\n",
      "distance 0.5560832331955936\n",
      "matches : [False, False, False, False, False, False, False, False]\n",
      "unknown\n",
      "-------------------------------------------------------------------------------------\n",
      "matches : [False, True, False, False, False, False, False, False]\n",
      "Possible name is AHMED OSAMA\n",
      "distance 0.5429103292385853\n",
      "-------------------------------------------------------------------------------------\n",
      "matches : [False, True, False, False, False, False, False, False]\n",
      "Possible name is AHMED OSAMA\n",
      "distance 0.5354637204756776\n",
      "matches : [False, False, False, False, False, False, False, False]\n",
      "unknown\n",
      "-------------------------------------------------------------------------------------\n",
      "matches : [False, True, False, False, True, False, False, False]\n",
      "Possible name is AHMED OSAMA\n",
      "distance 0.543796772916889\n",
      "matches : [False, False, False, False, False, False, False, False]\n",
      "unknown\n",
      "-------------------------------------------------------------------------------------\n",
      "matches : [False, False, False, False, False, False, False, False]\n",
      "unknown\n",
      "-------------------------------------------------------------------------------------\n",
      "matches : [False, False, False, False, False, False, False, False]\n",
      "unknown\n",
      "-------------------------------------------------------------------------------------\n",
      "matches : [False, False, True, False, False, False, False, False]\n",
      "name is AHMED SELIM\n",
      "distance :  0.3507044289865731\n",
      "accuracy: 93%\n",
      "matches : [False, False, False, False, False, False, False, False]\n",
      "unknown\n",
      "-------------------------------------------------------------------------------------\n",
      "matches : [False, True, True, False, False, False, False, False]\n",
      "name is AHMED SELIM\n",
      "distance :  0.3709965119358129\n",
      "accuracy: 90%\n",
      "matches : [False, False, False, False, True, False, False, False]\n",
      "Possible name is MOSTAFA TAMER\n",
      "distance 0.5992530021571303\n",
      "-------------------------------------------------------------------------------------\n",
      "matches : [False, False, True, False, False, False, False, False]\n",
      "name is AHMED SELIM\n",
      "distance :  0.326359552246832\n",
      "accuracy: 96%\n",
      "-------------------------------------------------------------------------------------\n",
      "matches : [False, True, True, False, False, False, False, False]\n",
      "name is AHMED SELIM\n",
      "distance :  0.37324880927222925\n",
      "accuracy: 90%\n",
      "matches : [False, False, False, False, False, False, False, False]\n",
      "unknown\n",
      "-------------------------------------------------------------------------------------\n",
      "matches : [False, False, True, False, False, False, False, False]\n",
      "name is AHMED SELIM\n",
      "distance :  0.3557359812548334\n",
      "accuracy: 92%\n",
      "matches : [False, False, False, False, False, False, False, False]\n",
      "unknown\n",
      "-------------------------------------------------------------------------------------\n",
      "matches : [False, True, True, False, False, False, False, False]\n",
      "name is AHMED SELIM\n",
      "distance :  0.3267113477267845\n",
      "accuracy: 96%\n",
      "-------------------------------------------------------------------------------------\n",
      "matches : [False, True, True, True, True, False, False, False]\n",
      "name is AHMED SELIM\n",
      "distance :  0.32369038557513796\n",
      "accuracy: 97%\n",
      "-------------------------------------------------------------------------------------\n",
      "matches : [False, False, True, False, False, False, False, False]\n",
      "name is AHMED SELIM\n",
      "distance :  0.30085059499381456\n",
      "accuracy: 100%\n",
      "-------------------------------------------------------------------------------------\n",
      "matches : [False, True, True, False, False, False, False, False]\n",
      "name is AHMED SELIM\n",
      "distance :  0.27452744248405536\n",
      "accuracy: 104%\n",
      "matches : [False, False, False, False, False, False, False, False]\n",
      "unknown\n",
      "-------------------------------------------------------------------------------------\n",
      "matches : [False, True, False, False, False, False, False, False]\n",
      "Possible name is AHMED OSAMA\n",
      "distance 0.5777420029790876\n",
      "matches : [False, False, True, False, True, False, False, False]\n",
      "name is AHMED SELIM\n",
      "distance :  0.3644931583045895\n",
      "accuracy: 91%\n",
      "-------------------------------------------------------------------------------------\n",
      "matches : [False, False, True, False, False, False, False, False]\n",
      "name is AHMED SELIM\n",
      "distance :  0.3432433785922617\n",
      "accuracy: 94%\n",
      "matches : [False, False, False, False, False, False, False, False]\n",
      "unknown\n",
      "-------------------------------------------------------------------------------------\n",
      "matches : [False, True, True, False, False, False, False, False]\n",
      "name is AHMED SELIM\n",
      "distance :  0.35143703853114144\n",
      "accuracy: 93%\n",
      "matches : [False, False, False, False, False, False, False, False]\n",
      "unknown\n",
      "-------------------------------------------------------------------------------------\n",
      "matches : [False, True, True, False, True, False, False, False]\n",
      "name is AHMED SELIM\n",
      "distance :  0.3569528131735963\n",
      "accuracy: 92%\n",
      "matches : [False, False, False, False, False, False, False, False]\n",
      "unknown\n",
      "-------------------------------------------------------------------------------------\n",
      "matches : [False, True, True, False, True, False, False, False]\n",
      "name is AHMED SELIM\n",
      "distance :  0.366820703017056\n",
      "accuracy: 90%\n",
      "matches : [False, False, False, False, False, False, False, False]\n",
      "unknown\n",
      "-------------------------------------------------------------------------------------\n",
      "matches : [False, False, True, False, False, False, False, False]\n",
      "name is AHMED SELIM\n",
      "distance :  0.35577354631168545\n",
      "accuracy: 92%\n",
      "-------------------------------------------------------------------------------------\n",
      "matches : [False, False, False, False, False, False, False, False]\n",
      "unknown\n",
      "matches : [False, False, False, False, False, False, False, False]\n",
      "unknown\n",
      "-------------------------------------------------------------------------------------\n",
      "matches : [False, True, False, False, False, False, False, False]\n",
      "Possible name is AHMED OSAMA\n",
      "distance 0.5872265824153025\n",
      "matches : [False, False, False, False, False, False, False, False]\n",
      "unknown\n",
      "-------------------------------------------------------------------------------------\n"
     ]
    }
   ],
   "source": [
    "def stream(encodeListKnown, classNames,sec_name):\n",
    "    cap = cv2.VideoCapture(0)\n",
    "    capture_faces_and_recognize(cap,encodeListKnown, classNames,sec_name)\n",
    "    cap.release()\n",
    "    cv2.destroyAllWindows()\n",
    "stream(encodeListKnown, classNames,\"sec2\")  "
   ]
  },
  {
   "cell_type": "code",
   "execution_count": null,
   "metadata": {},
   "outputs": [],
   "source": []
  },
  {
   "cell_type": "markdown",
   "metadata": {},
   "source": [
    "# process video"
   ]
  },
  {
   "cell_type": "code",
   "execution_count": null,
   "metadata": {},
   "outputs": [],
   "source": [
    "def process_video(video_path, encodeListKnown, classNames,sec_name, frame_resizing=0.25, window_width=800, window_height=600, playback_speed=30):\n",
    "    cap = cv2.VideoCapture(video_path)\n",
    "    # Set the size of the window\n",
    "    cv2.namedWindow('Video', cv2.WINDOW_NORMAL)\n",
    "    cv2.resizeWindow('Video', window_width, window_height)\n",
    "    capture_faces_and_recognize(cap,encodeListKnown, classNames,sec_name)\n",
    "    cap.release()\n",
    "    cv2.destroyAllWindows()\n",
    "process_video('VID_20240228_112302.mp4',encodeListKnown, classNames,\"out\")"
   ]
  },
  {
   "cell_type": "code",
   "execution_count": null,
   "metadata": {},
   "outputs": [],
   "source": []
  }
 ],
 "metadata": {
  "kernelspec": {
   "display_name": "Python 3 (ipykernel)",
   "language": "python",
   "name": "python3"
  },
  "language_info": {
   "codemirror_mode": {
    "name": "ipython",
    "version": 3
   },
   "file_extension": ".py",
   "mimetype": "text/x-python",
   "name": "python",
   "nbconvert_exporter": "python",
   "pygments_lexer": "ipython3",
   "version": "3.11.5"
  }
 },
 "nbformat": 4,
 "nbformat_minor": 4
}
